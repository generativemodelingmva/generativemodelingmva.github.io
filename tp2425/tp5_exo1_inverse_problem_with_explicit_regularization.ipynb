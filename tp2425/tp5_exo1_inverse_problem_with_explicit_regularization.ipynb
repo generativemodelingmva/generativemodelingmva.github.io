{
 "cells": [
  {
   "cell_type": "markdown",
   "metadata": {},
   "source": [
    "# Exo 1: Imaging Inverse Problems with Explicit Regularization"
   ]
  },
  {
   "cell_type": "markdown",
   "metadata": {},
   "source": [
    "<a target=\"_blank\" href=\"https://colab.research.google.com/github/generativemodelingmva/generativemodelingmva.github.io/blob/main/tp2425/tp5_exo1_inverse_problem_with_explicit_regularization.ipynb\">\n",
    "  <img src=\"https://colab.research.google.com/assets/colab-badge.svg\" alt=\"Open In Colab\"/>\n",
    "</a>"
   ]
  },
  {
   "cell_type": "markdown",
   "metadata": {},
   "source": [
    "<br/><br/>"
   ]
  },
  {
   "cell_type": "markdown",
   "metadata": {},
   "source": [
    "In this practical session, you have to complete the code regions marked ``### ... ###``."
   ]
  },
  {
   "cell_type": "code",
   "execution_count": null,
   "metadata": {},
   "outputs": [],
   "source": [
    "import numpy as np\n",
    "from torch.fft import fft2, ifft2, fftshift, ifftshift\n",
    "import matplotlib.pyplot as plt\n",
    "import torch\n",
    "print(torch.__version__)\n",
    "\n",
    "pi = torch.pi\n",
    "\n",
    "def rgb2gray(u):\n",
    "    return 0.2989 * u[:,:,0] + 0.5870 * u[:,:,1] + 0.1140 * u[:,:,2]\n",
    "\n",
    "def str2(chars):\n",
    "    return \"{:.2f}\".format(chars)\n",
    "\n",
    "def psnr(uref,ut,M=1):\n",
    "    mse = np.sqrt(np.mean((np.array(uref)-np.array(ut))**2))\n",
    "    return 20*np.log10(M/mse)\n",
    "\n",
    "def optim(f,niter=1000,lr=0.1):\n",
    "    u = torch.randn(M,N, requires_grad=True)\n",
    "    optimu = torch.optim.SGD([u], lr=lr)\n",
    "    losslist = []\n",
    "    for it in range(niter):\n",
    "        loss = f(u)\n",
    "        losslist.append(loss.detach())\n",
    "        optimu.zero_grad()\n",
    "        loss.backward()\n",
    "        optimu.step()\n",
    "    return u.detach(),losslist\n",
    "\n",
    "# viewimage\n",
    "import tempfile\n",
    "import IPython\n",
    "from skimage.transform import rescale\n",
    "\n",
    "def viewimage(im, normalize=True,z=2,order=0,titre='',displayfilename=False):\n",
    "    imin= np.array(im).astype(np.float32)\n",
    "    channel_axis = 2 if len(u0.shape)>2 else None\n",
    "    imin = rescale(imin, z, order=order, channel_axis=channel_axis)\n",
    "    if normalize:\n",
    "        imin-=imin.min()\n",
    "        if imin.max()>0:\n",
    "            imin/=imin.max()\n",
    "    else:\n",
    "        imin=imin.clip(0,255)/255 \n",
    "    imin=(imin*255).astype(np.uint8)\n",
    "    filename=tempfile.mktemp(titre+'.png')\n",
    "    if displayfilename:\n",
    "        print (filename)\n",
    "    plt.imsave(filename, imin, cmap='gray')\n",
    "    IPython.display.display(IPython.display.Image(filename))\n",
    "\n",
    "\n",
    "# alternative viewimage if the other one does not work:\n",
    "def Viewimage(im,dpi=100,cmap='gray'):\n",
    "    plt.figure(dpi=dpi)\n",
    "    if cmap is None:\n",
    "        plt.imshow(np.array(im))\n",
    "    else:\n",
    "        plt.imshow(np.array(im),cmap=cmap)\n",
    "    plt.axis('off')\n",
    "    plt.show()\n",
    "    \n",
    "!wget https://perso.telecom-paristech.fr/aleclaire/mva/tpdeblur.zip\n",
    "!unzip tpdeblur.zip"
   ]
  },
  {
   "cell_type": "markdown",
   "metadata": {},
   "source": [
    "# A) Deblurring with Tychonov and $\\mathsf{TV}_\\varepsilon$ regularizations"
   ]
  },
  {
   "cell_type": "markdown",
   "metadata": {},
   "source": [
    "<br/>In this practical session, you have to fill the code at places marked ``### ... ###``"
   ]
  },
  {
   "cell_type": "code",
   "execution_count": null,
   "metadata": {},
   "outputs": [],
   "source": [
    "# Open the image\n",
    "u0 = torch.tensor(rgb2gray(plt.imread('im/simpson512crop.png')))\n",
    "M,N = u0.shape\n",
    "\n",
    "viewimage(u0)"
   ]
  },
  {
   "cell_type": "code",
   "execution_count": null,
   "metadata": {},
   "outputs": [],
   "source": [
    "# Load a blur kernel\n",
    "kt = torch.tensor(np.loadtxt('kernels/kernel8.txt'))\n",
    "# kt = np.loadtxt('kernels/levin7.txt')\n",
    "(m,n) = kt.shape\n",
    "\n",
    "plt.imshow(kt)\n",
    "plt.title('Blur kernel')\n",
    "plt.show()\n",
    "\n",
    "# Embed the kernel in a MxN image, and put center at pixel (0,0)\n",
    "k = torch.zeros((M,N))\n",
    "k[0:m,0:n] = kt/torch.sum(kt)\n",
    "k = torch.roll(k,(-int(m/2),-int(n/2)),(0,1))\n",
    "fk = fft2(k)"
   ]
  },
  {
   "cell_type": "code",
   "execution_count": null,
   "metadata": {},
   "outputs": [],
   "source": [
    "# Compute the degraded image ublur = k*u0 + w  (convolution with periodic boundary conditions)\n",
    "sigma = 0.02\n",
    "ublur = ### ... ###\n",
    "\n",
    "plt.figure(dpi=100)\n",
    "plt.imshow(ublur,cmap='gray')\n",
    "plt.title('Degraded Image')\n",
    "plt.axis('off')\n",
    "plt.show()"
   ]
  },
  {
   "cell_type": "markdown",
   "metadata": {},
   "source": [
    "## Deblurring with Tychonov regularization\n",
    "\n",
    "Tychonov deblurring $u_{tych}$ is obtained as the minimal point of the following functional\n",
    "$$ F_{\\lambda}(u) = \\frac{1}{2} \\|k*u - u_{\\text{blur}}\\|_2^2 + \\lambda \\|\\nabla u\\|_2^2 $$\n",
    "where the squared gradient norm is\n",
    "$$ \\|\\nabla u\\|_2^2 = \\|\\partial_1 u\\|_2^2 + \\|\\partial_2 u\\|_2^2 = \\sum_{(x,y) \\in \\Omega} \\partial_1 u(x,y)^2 + \\partial_2 u(x,y)^2 .$$\n",
    "The parameter $\\lambda > 0$ allows to give more or less weight to the regularization.\n",
    "\n",
    "For the derivatives $\\partial_1 u, \\partial_2 u$, you can use a simple discrete scheme, computed with periodic boundary conditions."
   ]
  },
  {
   "cell_type": "code",
   "execution_count": null,
   "metadata": {},
   "outputs": [],
   "source": [
    "# Write the functional with data-fidelity and regularization with weight lambda (called lam below)\n",
    "def F(u, lam=1):\n",
    "    ### ... ###\n",
    "\n",
    "\n",
    "lam = 0.01\n",
    "tau = ### ... ###\n",
    "\n",
    "# Perform gradient descent (with fixed step size) in order to approximate the solution\n",
    "# Outputs should be \n",
    "#     u         (restored image)\n",
    "#     losslist  (list of values of cost function along the iterations)\n",
    "# \n",
    "# You may get inspiration from the wrapper optim(f, ...) given in the preamble.\n",
    "\n",
    "### ... ###\n",
    "\n",
    "\n",
    "utych = u  # (save results for further comparisons)\n",
    "\n",
    "plt.figure(dpi=180)\n",
    "plt.subplot(1,3,1)\n",
    "plt.imshow(u0, cmap='gray')\n",
    "plt.title('Original',fontsize=8)\n",
    "plt.axis('off')\n",
    "plt.subplot(1,3,2)\n",
    "plt.imshow(ublur, cmap='gray')\n",
    "plt.title('Blurred \\n PSNR='+str2(psnr(u0,v)),fontsize=8)\n",
    "plt.axis('off')\n",
    "plt.subplot(1,3,3)\n",
    "plt.imshow(utych, cmap='gray')\n",
    "plt.title('Linear deblurring \\n PSNR='+str2(psnr(u0,u)),fontsize=8)\n",
    "plt.axis('off')\n",
    "plt.show()\n",
    "\n",
    "plt.figure(dpi=100)\n",
    "plt.plot(losslist)\n",
    "plt.show()"
   ]
  },
  {
   "cell_type": "markdown",
   "metadata": {},
   "source": [
    "Tychonov deblurring can also be computed with filtering, directly in the Fourier domain:\n",
    "\n",
    "$$ \\forall (\\xi,\\zeta) \\in \\Omega, \\quad\n",
    "    \\widehat{u_{\\text{tych}}}(\\xi,\\zeta) = \\frac{\\overline{\\widehat{k}(\\xi,\\zeta)} }{|\\widehat{k}(\\xi,\\zeta)|^2 + 2\\lambda \\ \\hat{L}(\\xi,\\zeta) } \\ \\widehat{u_{\\text{blur}}}(\\xi,\\zeta) $$\n",
    "where\n",
    "\n",
    "$$\\hat{L}(\\xi,\\zeta) = 4  \\left( \\sin^2 \\left(\\frac{\\pi \\xi}{M} \\right) +  \\sin^2 \\left(\\frac{\\pi \\zeta}{N} \\right) \\right) .$$"
   ]
  },
  {
   "cell_type": "code",
   "execution_count": null,
   "metadata": {},
   "outputs": [],
   "source": [
    "# Implement here the explicit computation of Tychonov deblurring\n",
    "\n",
    "# You may use the following lines that generate arrays\n",
    "# of normalized frequencies (xi, zeta) in [-M/2,M/2]x[-N/2,N/2]\n",
    "xi = torch.arange(M)\n",
    "ind = (xi>M/2)\n",
    "xi[ind] = xi[ind]-M\n",
    "zeta = torch.arange(N)\n",
    "ind = (zeta>N/2)\n",
    "zeta[ind] = zeta[ind]-N\n",
    "Xi,Zeta = torch.meshgrid(xi,zeta,indexing='ij')\n",
    "\n",
    "\n",
    "us = ### ... ###\n",
    "\n",
    "print('Final error = ',torch.sqrt(torch.sum((utych-us)**2)))\n"
   ]
  },
  {
   "cell_type": "markdown",
   "metadata": {},
   "source": [
    "## Deblurring with smoothed total variation\n",
    "\n",
    "In the course session, we have defined the smoothed total variation as\n",
    "$$ \\mathsf{TV}_{\\varepsilon}(u)\n",
    "= \\sum_{(x,y) \\in \\Omega} \\sqrt{ \\varepsilon^2 + \\partial_1 u (x,y)^2 + \\partial_2 u (x,y)^2 } \\ .$$\n",
    "where $\\varepsilon > 0$ is a parameter.\n",
    "\n",
    "$\\mathsf{TV}_{\\varepsilon}$-deblurring is obtained as the minimal point of the following functional\n",
    "$$ G_{\\lambda}(u) = \\frac{1}{2} \\|k*u - u_{\\text{blur}}\\|_2^2 + \\lambda \\mathsf{TV}_{\\varepsilon}(u) $$"
   ]
  },
  {
   "cell_type": "code",
   "execution_count": null,
   "metadata": {},
   "outputs": [],
   "source": [
    "# Write the functional with data-fidelity and regularization with weight lambda (called lam below)\n",
    "def G(u, lam=1):\n",
    "    ### ... ###\n",
    "\n",
    "\n",
    "lam = 0.01\n",
    "tau = ### ... ###\n",
    "\n",
    "# Perform gradient descent (with fixed step size) in order to approximate the solution\n",
    "# Outputs should be \n",
    "#     u         (restored image)\n",
    "#     losslist  (list of values of cost function along the iterations)\n",
    "# \n",
    "# You may get inspiration from the wrapper optim(f, ...) given in the preamble.\n",
    "\n",
    "### ... ###\n",
    "\n",
    "utvs = u  # (save results for further comparisons)\n",
    "\n",
    "plt.figure(dpi=180)\n",
    "plt.subplot(1,3,1)\n",
    "plt.imshow(u0, cmap='gray')\n",
    "plt.title('Original',fontsize=8)\n",
    "plt.axis('off')\n",
    "plt.subplot(1,3,2)\n",
    "plt.imshow(ublur, cmap='gray')\n",
    "plt.title('Image dégradée',fontsize=8)\n",
    "plt.axis('off')\n",
    "plt.subplot(1,3,3)\n",
    "plt.imshow(utvs, cmap='gray')\n",
    "plt.title('TV deblurring \\n PSNR='+str2(psnr(u0,u)),fontsize=8)\n",
    "plt.axis('off')\n",
    "plt.show()"
   ]
  },
  {
   "cell_type": "code",
   "execution_count": null,
   "metadata": {},
   "outputs": [],
   "source": [
    "# Compare deblurring results with Tychonov regularization and TV_ep regularization\n",
    "\n",
    "plt.figure(dpi=150)\n",
    "plt.subplot(1,2,1)\n",
    "plt.imshow(u0, cmap='gray')\n",
    "plt.title('Original',fontsize=8)\n",
    "plt.axis('off')\n",
    "plt.subplot(1,2,2)\n",
    "plt.imshow(ublur, cmap='gray')\n",
    "plt.title('Blurred',fontsize=8)\n",
    "plt.axis('off')\n",
    "plt.show()\n",
    "\n",
    "plt.figure(dpi=150)\n",
    "plt.subplot(1,2,1)\n",
    "plt.imshow(utych, cmap='gray')\n",
    "plt.title('Linear deblurring \\n PSNR='+str2(psnr(u0,utych)),fontsize=8)\n",
    "plt.axis('off')\n",
    "plt.subplot(1,2,2)\n",
    "plt.imshow(utvs, cmap='gray')\n",
    "plt.title('TV deblurring \\n PSNR='+str2(psnr(u0,utvs)),fontsize=8)\n",
    "plt.axis('off')\n",
    "plt.show()"
   ]
  },
  {
   "cell_type": "markdown",
   "metadata": {},
   "source": [
    "## Adjusting the regularization parameter (at home)"
   ]
  },
  {
   "cell_type": "code",
   "execution_count": null,
   "metadata": {},
   "outputs": [],
   "source": [
    "# Find the value of the regularization parameter lambda that optimizes the PSNR\n",
    "# Do it first for Tychonov regularization, and then for smoothed TV.\n",
    "# Compare the final restoration results obtained with these oracle values of lambda.\n",
    "\n",
    "### ... ###"
   ]
  },
  {
   "cell_type": "markdown",
   "metadata": {},
   "source": [
    "<br/><br/><br/><br/><br/>"
   ]
  },
  {
   "cell_type": "markdown",
   "metadata": {},
   "source": [
    "# B) Inpainting with $\\mathsf{TV}_{\\varepsilon}$ regularization (at home)"
   ]
  },
  {
   "cell_type": "code",
   "execution_count": null,
   "metadata": {},
   "outputs": [],
   "source": [
    "# Open the image\n",
    "u0 = torch.tensor(rgb2gray(plt.imread('im/simpson512crop.png')))\n",
    "M,N = u0.shape\n",
    "\n",
    "viewimage(u0)"
   ]
  },
  {
   "cell_type": "code",
   "execution_count": null,
   "metadata": {},
   "outputs": [],
   "source": [
    "# Generate a random mask with proportion p of masked pixels\n",
    "p = .9\n",
    "mask = (torch.rand(M,N)<p)*1.\n",
    "# other choice:\n",
    "#mask = torch.ones(M,N)\n",
    "#mask[:,60:65] = 0\n",
    "\n",
    "umask = u0*mask\n",
    "\n",
    "viewimage(umask)"
   ]
  },
  {
   "cell_type": "markdown",
   "metadata": {},
   "source": [
    "## Relaxed Inpainting\n",
    "\n",
    "\n",
    "In order to perform $\\mathsf{TV}_{\\varepsilon}$, you have to minimize the following functional\n",
    "\n",
    "$$ F(u) = \\frac{1}{2} \\| (u- u_{\\text{mask}}) \\cdot \\text{mask} \\|_2^2 + \\lambda \\mathsf{TV}_{\\varepsilon}(u) . $$\n"
   ]
  },
  {
   "cell_type": "code",
   "execution_count": null,
   "metadata": {},
   "outputs": [],
   "source": [
    "# Perform relaxed TV inpainting \n",
    "\n",
    "### ... ###"
   ]
  },
  {
   "cell_type": "markdown",
   "metadata": {},
   "source": [
    "## Constrained Inpainting (with Projected Gradient Descent)"
   ]
  },
  {
   "cell_type": "code",
   "execution_count": null,
   "metadata": {},
   "outputs": [],
   "source": [
    "# Perform constrained TV inpainting by minimizing tv_ep(u) with constraint u = umask outside the mask\n",
    "\n",
    "### ... ###"
   ]
  },
  {
   "cell_type": "markdown",
   "metadata": {},
   "source": [
    "<br/><br/><br/><br/><br/>"
   ]
  }
 ],
 "metadata": {
  "kernelspec": {
   "display_name": "Python 3 (ipykernel)",
   "language": "python",
   "name": "python3"
  },
  "language_info": {
   "codemirror_mode": {
    "name": "ipython",
    "version": 3
   },
   "file_extension": ".py",
   "mimetype": "text/x-python",
   "name": "python",
   "nbconvert_exporter": "python",
   "pygments_lexer": "ipython3",
   "version": "3.11.4"
  }
 },
 "nbformat": 4,
 "nbformat_minor": 4
}
